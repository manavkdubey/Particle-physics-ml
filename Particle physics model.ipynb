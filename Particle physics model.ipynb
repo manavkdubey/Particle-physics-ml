{
 "cells": [
  {
   "cell_type": "code",
   "execution_count": 1,
   "id": "3b5cfc15",
   "metadata": {},
   "outputs": [],
   "source": [
    "import pandas as pd\n",
    "import numpy as np"
   ]
  },
  {
   "cell_type": "code",
   "execution_count": 2,
   "id": "4455de00",
   "metadata": {},
   "outputs": [],
   "source": [
    "with open(\"ups-15-small.bin\", \"rb\") as file:\n",
    "    data = file.read()\n",
    "\n",
    "datalist = np.frombuffer(data, dtype=np.float32)\n",
    "nevent = int(len(datalist) / 6)\n",
    "xdata = np.split(datalist, nevent)\n",
    "cols = [\"InvMass\", \"TransMomPair\", \"PseudoRapid\", \"MomPair\", \"TransMom1\", \"TransMom2\"]\n",
    "df = pd.DataFrame(xdata, columns=cols)"
   ]
  },
  {
   "cell_type": "code",
   "execution_count": 3,
   "id": "76cfe5e9",
   "metadata": {},
   "outputs": [
    {
     "data": {
      "text/html": [
       "<div>\n",
       "<style scoped>\n",
       "    .dataframe tbody tr th:only-of-type {\n",
       "        vertical-align: middle;\n",
       "    }\n",
       "\n",
       "    .dataframe tbody tr th {\n",
       "        vertical-align: top;\n",
       "    }\n",
       "\n",
       "    .dataframe thead th {\n",
       "        text-align: right;\n",
       "    }\n",
       "</style>\n",
       "<table border=\"1\" class=\"dataframe\">\n",
       "  <thead>\n",
       "    <tr style=\"text-align: right;\">\n",
       "      <th></th>\n",
       "      <th>InvMass</th>\n",
       "      <th>TransMomPair</th>\n",
       "      <th>PseudoRapid</th>\n",
       "      <th>MomPair</th>\n",
       "      <th>TransMom1</th>\n",
       "      <th>TransMom2</th>\n",
       "    </tr>\n",
       "  </thead>\n",
       "  <tbody>\n",
       "    <tr>\n",
       "      <th>0</th>\n",
       "      <td>9.473305</td>\n",
       "      <td>5.279369</td>\n",
       "      <td>4.054099</td>\n",
       "      <td>152.179306</td>\n",
       "      <td>3.738585</td>\n",
       "      <td>7.080844</td>\n",
       "    </tr>\n",
       "    <tr>\n",
       "      <th>1</th>\n",
       "      <td>9.812292</td>\n",
       "      <td>7.250655</td>\n",
       "      <td>3.913863</td>\n",
       "      <td>181.672607</td>\n",
       "      <td>2.996603</td>\n",
       "      <td>4.724026</td>\n",
       "    </tr>\n",
       "    <tr>\n",
       "      <th>2</th>\n",
       "      <td>9.564719</td>\n",
       "      <td>4.831397</td>\n",
       "      <td>3.033560</td>\n",
       "      <td>50.292870</td>\n",
       "      <td>7.580468</td>\n",
       "      <td>2.939981</td>\n",
       "    </tr>\n",
       "    <tr>\n",
       "      <th>3</th>\n",
       "      <td>10.440112</td>\n",
       "      <td>6.845929</td>\n",
       "      <td>3.971565</td>\n",
       "      <td>181.712784</td>\n",
       "      <td>3.264303</td>\n",
       "      <td>6.338173</td>\n",
       "    </tr>\n",
       "    <tr>\n",
       "      <th>4</th>\n",
       "      <td>10.752894</td>\n",
       "      <td>1.928041</td>\n",
       "      <td>5.350344</td>\n",
       "      <td>203.105118</td>\n",
       "      <td>4.387239</td>\n",
       "      <td>6.128740</td>\n",
       "    </tr>\n",
       "    <tr>\n",
       "      <th>...</th>\n",
       "      <td>...</td>\n",
       "      <td>...</td>\n",
       "      <td>...</td>\n",
       "      <td>...</td>\n",
       "      <td>...</td>\n",
       "      <td>...</td>\n",
       "    </tr>\n",
       "    <tr>\n",
       "      <th>936694</th>\n",
       "      <td>10.596350</td>\n",
       "      <td>4.611269</td>\n",
       "      <td>4.214876</td>\n",
       "      <td>156.092667</td>\n",
       "      <td>3.037244</td>\n",
       "      <td>2.437223</td>\n",
       "    </tr>\n",
       "    <tr>\n",
       "      <th>936695</th>\n",
       "      <td>9.416124</td>\n",
       "      <td>3.205391</td>\n",
       "      <td>5.446803</td>\n",
       "      <td>371.856812</td>\n",
       "      <td>3.329777</td>\n",
       "      <td>6.532393</td>\n",
       "    </tr>\n",
       "    <tr>\n",
       "      <th>936696</th>\n",
       "      <td>9.635703</td>\n",
       "      <td>12.138588</td>\n",
       "      <td>2.227105</td>\n",
       "      <td>56.934952</td>\n",
       "      <td>1.997741</td>\n",
       "      <td>12.955392</td>\n",
       "    </tr>\n",
       "    <tr>\n",
       "      <th>936697</th>\n",
       "      <td>10.695456</td>\n",
       "      <td>1.453391</td>\n",
       "      <td>5.675314</td>\n",
       "      <td>211.892380</td>\n",
       "      <td>4.478883</td>\n",
       "      <td>5.688461</td>\n",
       "    </tr>\n",
       "    <tr>\n",
       "      <th>936698</th>\n",
       "      <td>9.487272</td>\n",
       "      <td>1.739280</td>\n",
       "      <td>4.769574</td>\n",
       "      <td>102.510941</td>\n",
       "      <td>4.160195</td>\n",
       "      <td>5.465147</td>\n",
       "    </tr>\n",
       "  </tbody>\n",
       "</table>\n",
       "<p>936699 rows × 6 columns</p>\n",
       "</div>"
      ],
      "text/plain": [
       "          InvMass  TransMomPair  PseudoRapid     MomPair  TransMom1  TransMom2\n",
       "0        9.473305      5.279369     4.054099  152.179306   3.738585   7.080844\n",
       "1        9.812292      7.250655     3.913863  181.672607   2.996603   4.724026\n",
       "2        9.564719      4.831397     3.033560   50.292870   7.580468   2.939981\n",
       "3       10.440112      6.845929     3.971565  181.712784   3.264303   6.338173\n",
       "4       10.752894      1.928041     5.350344  203.105118   4.387239   6.128740\n",
       "...           ...           ...          ...         ...        ...        ...\n",
       "936694  10.596350      4.611269     4.214876  156.092667   3.037244   2.437223\n",
       "936695   9.416124      3.205391     5.446803  371.856812   3.329777   6.532393\n",
       "936696   9.635703     12.138588     2.227105   56.934952   1.997741  12.955392\n",
       "936697  10.695456      1.453391     5.675314  211.892380   4.478883   5.688461\n",
       "936698   9.487272      1.739280     4.769574  102.510941   4.160195   5.465147\n",
       "\n",
       "[936699 rows x 6 columns]"
      ]
     },
     "execution_count": 3,
     "metadata": {},
     "output_type": "execute_result"
    }
   ],
   "source": [
    "df"
   ]
  },
  {
   "cell_type": "code",
   "execution_count": 4,
   "id": "88c57425",
   "metadata": {},
   "outputs": [],
   "source": [
    "x=df.drop(\"TransMomPair\",axis=1)\n",
    "y=df[\"TransMomPair\"]"
   ]
  },
  {
   "cell_type": "code",
   "execution_count": 5,
   "id": "44f1424b",
   "metadata": {},
   "outputs": [
    {
     "data": {
      "text/html": [
       "<div>\n",
       "<style scoped>\n",
       "    .dataframe tbody tr th:only-of-type {\n",
       "        vertical-align: middle;\n",
       "    }\n",
       "\n",
       "    .dataframe tbody tr th {\n",
       "        vertical-align: top;\n",
       "    }\n",
       "\n",
       "    .dataframe thead th {\n",
       "        text-align: right;\n",
       "    }\n",
       "</style>\n",
       "<table border=\"1\" class=\"dataframe\">\n",
       "  <thead>\n",
       "    <tr style=\"text-align: right;\">\n",
       "      <th></th>\n",
       "      <th>InvMass</th>\n",
       "      <th>PseudoRapid</th>\n",
       "      <th>MomPair</th>\n",
       "      <th>TransMom1</th>\n",
       "      <th>TransMom2</th>\n",
       "    </tr>\n",
       "  </thead>\n",
       "  <tbody>\n",
       "    <tr>\n",
       "      <th>0</th>\n",
       "      <td>9.473305</td>\n",
       "      <td>4.054099</td>\n",
       "      <td>152.179306</td>\n",
       "      <td>3.738585</td>\n",
       "      <td>7.080844</td>\n",
       "    </tr>\n",
       "    <tr>\n",
       "      <th>1</th>\n",
       "      <td>9.812292</td>\n",
       "      <td>3.913863</td>\n",
       "      <td>181.672607</td>\n",
       "      <td>2.996603</td>\n",
       "      <td>4.724026</td>\n",
       "    </tr>\n",
       "    <tr>\n",
       "      <th>2</th>\n",
       "      <td>9.564719</td>\n",
       "      <td>3.033560</td>\n",
       "      <td>50.292870</td>\n",
       "      <td>7.580468</td>\n",
       "      <td>2.939981</td>\n",
       "    </tr>\n",
       "    <tr>\n",
       "      <th>3</th>\n",
       "      <td>10.440112</td>\n",
       "      <td>3.971565</td>\n",
       "      <td>181.712784</td>\n",
       "      <td>3.264303</td>\n",
       "      <td>6.338173</td>\n",
       "    </tr>\n",
       "    <tr>\n",
       "      <th>4</th>\n",
       "      <td>10.752894</td>\n",
       "      <td>5.350344</td>\n",
       "      <td>203.105118</td>\n",
       "      <td>4.387239</td>\n",
       "      <td>6.128740</td>\n",
       "    </tr>\n",
       "    <tr>\n",
       "      <th>...</th>\n",
       "      <td>...</td>\n",
       "      <td>...</td>\n",
       "      <td>...</td>\n",
       "      <td>...</td>\n",
       "      <td>...</td>\n",
       "    </tr>\n",
       "    <tr>\n",
       "      <th>936694</th>\n",
       "      <td>10.596350</td>\n",
       "      <td>4.214876</td>\n",
       "      <td>156.092667</td>\n",
       "      <td>3.037244</td>\n",
       "      <td>2.437223</td>\n",
       "    </tr>\n",
       "    <tr>\n",
       "      <th>936695</th>\n",
       "      <td>9.416124</td>\n",
       "      <td>5.446803</td>\n",
       "      <td>371.856812</td>\n",
       "      <td>3.329777</td>\n",
       "      <td>6.532393</td>\n",
       "    </tr>\n",
       "    <tr>\n",
       "      <th>936696</th>\n",
       "      <td>9.635703</td>\n",
       "      <td>2.227105</td>\n",
       "      <td>56.934952</td>\n",
       "      <td>1.997741</td>\n",
       "      <td>12.955392</td>\n",
       "    </tr>\n",
       "    <tr>\n",
       "      <th>936697</th>\n",
       "      <td>10.695456</td>\n",
       "      <td>5.675314</td>\n",
       "      <td>211.892380</td>\n",
       "      <td>4.478883</td>\n",
       "      <td>5.688461</td>\n",
       "    </tr>\n",
       "    <tr>\n",
       "      <th>936698</th>\n",
       "      <td>9.487272</td>\n",
       "      <td>4.769574</td>\n",
       "      <td>102.510941</td>\n",
       "      <td>4.160195</td>\n",
       "      <td>5.465147</td>\n",
       "    </tr>\n",
       "  </tbody>\n",
       "</table>\n",
       "<p>936699 rows × 5 columns</p>\n",
       "</div>"
      ],
      "text/plain": [
       "          InvMass  PseudoRapid     MomPair  TransMom1  TransMom2\n",
       "0        9.473305     4.054099  152.179306   3.738585   7.080844\n",
       "1        9.812292     3.913863  181.672607   2.996603   4.724026\n",
       "2        9.564719     3.033560   50.292870   7.580468   2.939981\n",
       "3       10.440112     3.971565  181.712784   3.264303   6.338173\n",
       "4       10.752894     5.350344  203.105118   4.387239   6.128740\n",
       "...           ...          ...         ...        ...        ...\n",
       "936694  10.596350     4.214876  156.092667   3.037244   2.437223\n",
       "936695   9.416124     5.446803  371.856812   3.329777   6.532393\n",
       "936696   9.635703     2.227105   56.934952   1.997741  12.955392\n",
       "936697  10.695456     5.675314  211.892380   4.478883   5.688461\n",
       "936698   9.487272     4.769574  102.510941   4.160195   5.465147\n",
       "\n",
       "[936699 rows x 5 columns]"
      ]
     },
     "execution_count": 5,
     "metadata": {},
     "output_type": "execute_result"
    }
   ],
   "source": [
    "x"
   ]
  },
  {
   "cell_type": "code",
   "execution_count": 6,
   "id": "4fc085fe",
   "metadata": {},
   "outputs": [],
   "source": [
    "from sklearn.model_selection import train_test_split"
   ]
  },
  {
   "cell_type": "code",
   "execution_count": 7,
   "id": "6f8a153c",
   "metadata": {},
   "outputs": [],
   "source": [
    "x_train,x_test,y_train,y_test=train_test_split(x,y,test_size=0.2)"
   ]
  },
  {
   "cell_type": "code",
   "execution_count": 8,
   "id": "f6f0a776",
   "metadata": {},
   "outputs": [],
   "source": [
    "from sklearn.ensemble import RandomForestRegressor\n",
    "reg=RandomForestRegressor()"
   ]
  },
  {
   "cell_type": "code",
   "execution_count": 9,
   "id": "fe51f348",
   "metadata": {},
   "outputs": [
    {
     "data": {
      "text/html": [
       "<style>#sk-container-id-1 {color: black;background-color: white;}#sk-container-id-1 pre{padding: 0;}#sk-container-id-1 div.sk-toggleable {background-color: white;}#sk-container-id-1 label.sk-toggleable__label {cursor: pointer;display: block;width: 100%;margin-bottom: 0;padding: 0.3em;box-sizing: border-box;text-align: center;}#sk-container-id-1 label.sk-toggleable__label-arrow:before {content: \"▸\";float: left;margin-right: 0.25em;color: #696969;}#sk-container-id-1 label.sk-toggleable__label-arrow:hover:before {color: black;}#sk-container-id-1 div.sk-estimator:hover label.sk-toggleable__label-arrow:before {color: black;}#sk-container-id-1 div.sk-toggleable__content {max-height: 0;max-width: 0;overflow: hidden;text-align: left;background-color: #f0f8ff;}#sk-container-id-1 div.sk-toggleable__content pre {margin: 0.2em;color: black;border-radius: 0.25em;background-color: #f0f8ff;}#sk-container-id-1 input.sk-toggleable__control:checked~div.sk-toggleable__content {max-height: 200px;max-width: 100%;overflow: auto;}#sk-container-id-1 input.sk-toggleable__control:checked~label.sk-toggleable__label-arrow:before {content: \"▾\";}#sk-container-id-1 div.sk-estimator input.sk-toggleable__control:checked~label.sk-toggleable__label {background-color: #d4ebff;}#sk-container-id-1 div.sk-label input.sk-toggleable__control:checked~label.sk-toggleable__label {background-color: #d4ebff;}#sk-container-id-1 input.sk-hidden--visually {border: 0;clip: rect(1px 1px 1px 1px);clip: rect(1px, 1px, 1px, 1px);height: 1px;margin: -1px;overflow: hidden;padding: 0;position: absolute;width: 1px;}#sk-container-id-1 div.sk-estimator {font-family: monospace;background-color: #f0f8ff;border: 1px dotted black;border-radius: 0.25em;box-sizing: border-box;margin-bottom: 0.5em;}#sk-container-id-1 div.sk-estimator:hover {background-color: #d4ebff;}#sk-container-id-1 div.sk-parallel-item::after {content: \"\";width: 100%;border-bottom: 1px solid gray;flex-grow: 1;}#sk-container-id-1 div.sk-label:hover label.sk-toggleable__label {background-color: #d4ebff;}#sk-container-id-1 div.sk-serial::before {content: \"\";position: absolute;border-left: 1px solid gray;box-sizing: border-box;top: 0;bottom: 0;left: 50%;z-index: 0;}#sk-container-id-1 div.sk-serial {display: flex;flex-direction: column;align-items: center;background-color: white;padding-right: 0.2em;padding-left: 0.2em;position: relative;}#sk-container-id-1 div.sk-item {position: relative;z-index: 1;}#sk-container-id-1 div.sk-parallel {display: flex;align-items: stretch;justify-content: center;background-color: white;position: relative;}#sk-container-id-1 div.sk-item::before, #sk-container-id-1 div.sk-parallel-item::before {content: \"\";position: absolute;border-left: 1px solid gray;box-sizing: border-box;top: 0;bottom: 0;left: 50%;z-index: -1;}#sk-container-id-1 div.sk-parallel-item {display: flex;flex-direction: column;z-index: 1;position: relative;background-color: white;}#sk-container-id-1 div.sk-parallel-item:first-child::after {align-self: flex-end;width: 50%;}#sk-container-id-1 div.sk-parallel-item:last-child::after {align-self: flex-start;width: 50%;}#sk-container-id-1 div.sk-parallel-item:only-child::after {width: 0;}#sk-container-id-1 div.sk-dashed-wrapped {border: 1px dashed gray;margin: 0 0.4em 0.5em 0.4em;box-sizing: border-box;padding-bottom: 0.4em;background-color: white;}#sk-container-id-1 div.sk-label label {font-family: monospace;font-weight: bold;display: inline-block;line-height: 1.2em;}#sk-container-id-1 div.sk-label-container {text-align: center;}#sk-container-id-1 div.sk-container {/* jupyter's `normalize.less` sets `[hidden] { display: none; }` but bootstrap.min.css set `[hidden] { display: none !important; }` so we also need the `!important` here to be able to override the default hidden behavior on the sphinx rendered scikit-learn.org. See: https://github.com/scikit-learn/scikit-learn/issues/21755 */display: inline-block !important;position: relative;}#sk-container-id-1 div.sk-text-repr-fallback {display: none;}</style><div id=\"sk-container-id-1\" class=\"sk-top-container\"><div class=\"sk-text-repr-fallback\"><pre>RandomForestRegressor()</pre><b>In a Jupyter environment, please rerun this cell to show the HTML representation or trust the notebook. <br />On GitHub, the HTML representation is unable to render, please try loading this page with nbviewer.org.</b></div><div class=\"sk-container\" hidden><div class=\"sk-item\"><div class=\"sk-estimator sk-toggleable\"><input class=\"sk-toggleable__control sk-hidden--visually\" id=\"sk-estimator-id-1\" type=\"checkbox\" checked><label for=\"sk-estimator-id-1\" class=\"sk-toggleable__label sk-toggleable__label-arrow\">RandomForestRegressor</label><div class=\"sk-toggleable__content\"><pre>RandomForestRegressor()</pre></div></div></div></div></div>"
      ],
      "text/plain": [
       "RandomForestRegressor()"
      ]
     },
     "execution_count": 9,
     "metadata": {},
     "output_type": "execute_result"
    }
   ],
   "source": [
    "reg.fit(x_train,y_train)"
   ]
  },
  {
   "cell_type": "code",
   "execution_count": 11,
   "id": "6a4f7910",
   "metadata": {},
   "outputs": [
    {
     "data": {
      "text/plain": [
       "0.9867712618000882"
      ]
     },
     "execution_count": 11,
     "metadata": {},
     "output_type": "execute_result"
    }
   ],
   "source": [
    "reg.score(x_test,y_test)"
   ]
  },
  {
   "cell_type": "code",
   "execution_count": null,
   "id": "d35eee23",
   "metadata": {},
   "outputs": [],
   "source": []
  }
 ],
 "metadata": {
  "kernelspec": {
   "display_name": "Python 3 (ipykernel)",
   "language": "python",
   "name": "python3"
  },
  "language_info": {
   "codemirror_mode": {
    "name": "ipython",
    "version": 3
   },
   "file_extension": ".py",
   "mimetype": "text/x-python",
   "name": "python",
   "nbconvert_exporter": "python",
   "pygments_lexer": "ipython3",
   "version": "3.9.6"
  }
 },
 "nbformat": 4,
 "nbformat_minor": 5
}
